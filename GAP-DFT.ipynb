{
 "cells": [
  {
   "cell_type": "code",
   "execution_count": 3,
   "id": "53df0819",
   "metadata": {},
   "outputs": [],
   "source": [
    "import numpy as np\n",
    "import matplotlib.pyplot as plt\n",
    "import os"
   ]
  },
  {
   "cell_type": "code",
   "execution_count": 4,
   "id": "fec9571a",
   "metadata": {},
   "outputs": [],
   "source": [
    "E_ads = -14.80271629\n",
    "ElStatPot_ref = os.popen(\"(grep  -A9 '(the norm of the test charge is              1.0000)' OUTCAR_ref) | grep -v 'the norm of the test charge is              1.0000' | tail -n 9  | awk '{ print $2, $4, $6, $8, $10 }' \").read()   # grep the electrostatic potential list from OUTCAR of surface reference system\n",
    "ElStatPot_ref = ElStatPot_ref.split()\n",
    "ElStatPot_ref = np.array(ElStatPot_ref, dtype=np.float32)\n",
    "E_surf = os.popen(\"grep 'free  energy   TOTEN  =' OUTCAR_ref | tail -n 1 | awk '{ print $5}'\").read().strip()\n",
    "ElStatPot_ref_ads = os.popen(\"(grep  -A9 '(the norm of the test charge is              1.0000)' OUTCAR_ref_ads) | grep -v 'the norm of the test charge is              1.0000' |tail -n 9  | awk '{ print $2, $4, $6, $8, $10 }' \").read()   # grep the electrostatic potential list from OUTCAR of surface reference system\n",
    "ElStatPot_ref_ads = ElStatPot_ref_ads.split()\n",
    "ElStatPot_ref_ads = np.array(ElStatPot_ref_ads, dtype=np.float32)\n",
    "E_surf_ads = os.popen(\"grep 'free  energy   TOTEN  =' OUTCAR_ref_ads | tail -n 1 | awk '{ print $5}'\").read().strip()\n"
   ]
  },
  {
   "cell_type": "code",
   "execution_count": 5,
   "id": "6141db21",
   "metadata": {},
   "outputs": [],
   "source": [
    "BE_ref = float(E_surf) + E_ads - float(E_surf_ads)\n",
    "ElStatPot_diff = np.subtract(ElStatPot_ref_ads, ElStatPot_ref) \n",
    "\n",
    "a_file = open(\"ElStatPot_diff.txt\", \"w\")\n",
    "\n",
    "np.savetxt(a_file, ElStatPot_diff, fmt='%.6f')\n",
    "a_file.close()\n",
    "\n",
    "results = []\n",
    "results2 = []\n",
    "\n",
    "# Loop to calculate delta_alch and BE_alch\n",
    "for i in range(9, 18):\n",
    "    for j in range(18, 27):\n",
    "        for m in range(27, 36):\n",
    "            for n in range(36, 45):\n",
    "                Pd_elstat = ElStatPot_diff[i]\n",
    "                Ag_elstat = ElStatPot_diff[j]\n",
    "                Pt_elstat = ElStatPot_diff[m]\n",
    "                Au_elstat = ElStatPot_diff[n]\n",
    "                delta_alch = Pd_elstat*1 + Ag_elstat*-1 + Pt_elstat*1 + Au_elstat*-1\n",
    "                BE_alch = BE_ref + delta_alch\n",
    "                ii = i - 9\n",
    "                jj = j - 18\n",
    "                mm = m - 27\n",
    "                nn = n - 36\n",
    "                \n",
    "                elem1 = 'Pd'\n",
    "                elem2 = 'Ag'\n",
    "                elem3 = 'Pd'\n",
    "                elem4 = 'Ag'\n",
    "                \n",
    "                # Prepare the string format with element names and indices\n",
    "                label = f\"{elem1}{ii + 1} {elem2}{jj + 1} {elem3}{mm + 1} {elem4}{nn + 1}\"  # Adding 1 to make indices start from 1\n",
    "                results.append(f\"{label} {delta_alch:.8f}\")\n",
    "                results2.append(f\"{label} {BE_alch:.8f}\")\n",
    "\n",
    "# Save the results with labels to files\n",
    "with open(\"delta_alch_Pd_Ag.txt\", \"w\") as file:\n",
    "    for line in results:\n",
    "        file.write(line + \"\\n\")\n",
    "\n",
    "with open(\"BE_alch_Pd_Ag.txt\", \"w\") as file2:\n",
    "    for line in results2:\n",
    "        file2.write(line + \"\\n\")\n"
   ]
  },
  {
   "cell_type": "code",
   "execution_count": 6,
   "id": "f863694f",
   "metadata": {},
   "outputs": [
    {
     "data": {
      "image/png": "[encoded data removed]",
      "text/plain": [
       "<Figure size 432x288 with 1 Axes>"
      ]
     },
     "metadata": {
      "needs_background": "light"
     },
     "output_type": "display_data"
    }
   ],
   "source": [
    "# Load the data from the file\n",
    "data = np.loadtxt('BE_alch_Pd_Ag.txt', usecols=4)\n",
    "\n",
    "# Create a histogram\n",
    "plt.hist(data, bins=30, edgecolor='black', alpha=0.7)\n",
    "plt.xlabel('BE_alch')\n",
    "plt.ylabel('Frequency')\n",
    "plt.title('BE (eV)')\n",
    "plt.grid(True)\n",
    "\n",
    "# Show the plot\n",
    "plt.show()"
   ]
  },
  {
   "cell_type": "code",
   "execution_count": null,
   "id": "d76d6814",
   "metadata": {},
   "outputs": [],
   "source": []
  }
 ],
 "metadata": {
  "kernelspec": {
   "display_name": "Python 3 (ipykernel)",
   "language": "python",
   "name": "python3"
  },
  "language_info": {
   "codemirror_mode": {
    "name": "ipython",
    "version": 3
   },
   "file_extension": ".py",
   "mimetype": "text/x-python",
   "name": "python",
   "nbconvert_exporter": "python",
   "pygments_lexer": "ipython3",
   "version": "3.8.5"
  }
 },
 "nbformat": 4,
 "nbformat_minor": 5
}
